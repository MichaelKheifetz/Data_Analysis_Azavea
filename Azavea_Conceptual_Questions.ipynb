{
 "cells": [
  {
   "cell_type": "markdown",
   "metadata": {},
   "source": [
    "# Conceptual Questions"
   ]
  },
  {
   "cell_type": "markdown",
   "metadata": {},
   "source": [
    "1) In the dataset with the manufacturing companies, the appropriate method would be regression and we are most interested in inference. Here n=350 (data points) and p=3 (features). This is a regression problem because the CEO's salary is a continous variable (not categorical variable). We are concerned with inference here because we are trying to understand how each of the variables (in this case specifically industry, number of employees and total profit) for a company impacts the CEO salary as opposed to only predict what the CEO's salary will be based on the all the variables."
   ]
  },
  {
   "cell_type": "markdown",
   "metadata": {},
   "source": [
    "2) In the dataset on startups analyzing a new product, the appropriate method would be \n",
    "classification and we are most interested in prediction. The p=13 (number of features, the 3 listed plus the 10 \"other\" features/variables) and n=31 (# of different products/datapoints). The problem is a classification problem because the outcome is binary, either a success or failure. We are primarily interested in making a prediction here because we are predicting whether the outcome will be a success or failure."
   ]
  },
  {
   "cell_type": "markdown",
   "metadata": {},
   "source": [
    "3) For the stock market dataset, the appropriate method would be regression and we are \n",
    "interested in prediction. n=52 (number of weeks in a year) and p=3 (the features/variables). \n",
    "This is a regression because we are interested in the % change in the dollar with respect to \n",
    "other features (so this is a continous variable, not categorical). It is a prediction problem \n",
    "because we are trying to predict correctly the % change in the dollar in relation to the changes every week in the stock market on a weekly basis. In other words, we are trying to predict a % change in the dollar for every single week (52 data points), hence prediction."
   ]
  },
  {
   "cell_type": "code",
   "execution_count": null,
   "metadata": {
    "collapsed": true
   },
   "outputs": [],
   "source": []
  }
 ],
 "metadata": {
  "anaconda-cloud": {},
  "kernelspec": {
   "display_name": "Python [conda root]",
   "language": "python",
   "name": "conda-root-py"
  },
  "language_info": {
   "codemirror_mode": {
    "name": "ipython",
    "version": 2
   },
   "file_extension": ".py",
   "mimetype": "text/x-python",
   "name": "python",
   "nbconvert_exporter": "python",
   "pygments_lexer": "ipython2",
   "version": "2.7.12"
  }
 },
 "nbformat": 4,
 "nbformat_minor": 1
}
